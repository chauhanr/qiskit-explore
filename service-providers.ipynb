{
 "cells": [
  {
   "cell_type": "code",
   "execution_count": 1,
   "id": "cf5880c8",
   "metadata": {},
   "outputs": [],
   "source": [
    "from qiskit import * "
   ]
  },
  {
   "cell_type": "code",
   "execution_count": 2,
   "id": "b66ffeb6",
   "metadata": {},
   "outputs": [],
   "source": [
    "IBMQ.save_account(open(\".env\", \"r\").read())"
   ]
  },
  {
   "cell_type": "code",
   "execution_count": 3,
   "id": "e4c9681f",
   "metadata": {},
   "outputs": [
    {
     "data": {
      "text/plain": [
       "<AccountProvider for IBMQ(hub='ibm-q', group='open', project='main')>"
      ]
     },
     "execution_count": 3,
     "metadata": {},
     "output_type": "execute_result"
    }
   ],
   "source": [
    "IBMQ.load_account()"
   ]
  },
  {
   "cell_type": "code",
   "execution_count": 4,
   "id": "f1796ba6",
   "metadata": {},
   "outputs": [
    {
     "data": {
      "text/plain": [
       "[AerSimulator('aer_simulator'),\n",
       " AerSimulator('aer_simulator_statevector'),\n",
       " AerSimulator('aer_simulator_density_matrix'),\n",
       " AerSimulator('aer_simulator_stabilizer'),\n",
       " AerSimulator('aer_simulator_matrix_product_state'),\n",
       " AerSimulator('aer_simulator_extended_stabilizer'),\n",
       " AerSimulator('aer_simulator_unitary'),\n",
       " AerSimulator('aer_simulator_superop'),\n",
       " QasmSimulator('qasm_simulator'),\n",
       " StatevectorSimulator('statevector_simulator'),\n",
       " UnitarySimulator('unitary_simulator'),\n",
       " PulseSimulator('pulse_simulator')]"
      ]
     },
     "execution_count": 4,
     "metadata": {},
     "output_type": "execute_result"
    }
   ],
   "source": [
    "# now list the simulator backends - this are all simulators we can use \n",
    "Aer.backends()"
   ]
  },
  {
   "cell_type": "code",
   "execution_count": 5,
   "id": "cf27fe0c",
   "metadata": {},
   "outputs": [],
   "source": [
    "# to get the IBM quantum servers we need use IBMQ\n",
    "providers = IBMQ.get_provider('ibm-q')"
   ]
  },
  {
   "cell_type": "code",
   "execution_count": 6,
   "id": "cd0f4ac5",
   "metadata": {},
   "outputs": [
    {
     "data": {
      "text/plain": [
       "[<IBMQSimulator('ibmq_qasm_simulator') from IBMQ(hub='ibm-q', group='open', project='main')>,\n",
       " <IBMQBackend('ibmq_lima') from IBMQ(hub='ibm-q', group='open', project='main')>,\n",
       " <IBMQBackend('ibmq_belem') from IBMQ(hub='ibm-q', group='open', project='main')>,\n",
       " <IBMQBackend('ibmq_quito') from IBMQ(hub='ibm-q', group='open', project='main')>,\n",
       " <IBMQSimulator('simulator_statevector') from IBMQ(hub='ibm-q', group='open', project='main')>,\n",
       " <IBMQSimulator('simulator_mps') from IBMQ(hub='ibm-q', group='open', project='main')>,\n",
       " <IBMQSimulator('simulator_extended_stabilizer') from IBMQ(hub='ibm-q', group='open', project='main')>,\n",
       " <IBMQSimulator('simulator_stabilizer') from IBMQ(hub='ibm-q', group='open', project='main')>,\n",
       " <IBMQBackend('ibmq_jakarta') from IBMQ(hub='ibm-q', group='open', project='main')>,\n",
       " <IBMQBackend('ibmq_manila') from IBMQ(hub='ibm-q', group='open', project='main')>,\n",
       " <IBMQBackend('ibm_lagos') from IBMQ(hub='ibm-q', group='open', project='main')>,\n",
       " <IBMQBackend('ibm_nairobi') from IBMQ(hub='ibm-q', group='open', project='main')>,\n",
       " <IBMQBackend('ibm_perth') from IBMQ(hub='ibm-q', group='open', project='main')>]"
      ]
     },
     "execution_count": 6,
     "metadata": {},
     "output_type": "execute_result"
    }
   ],
   "source": [
    "providers.backends() # this gives the simulators and actual machines you account has access to. "
   ]
  },
  {
   "cell_type": "markdown",
   "id": "db2a8b6d",
   "metadata": {},
   "source": [
    "### Get the Backend server name, jobs pending and the qubit system it is"
   ]
  },
  {
   "cell_type": "code",
   "execution_count": 7,
   "id": "c375f30c",
   "metadata": {},
   "outputs": [
    {
     "name": "stdout",
     "output_type": "stream",
     "text": [
      "ibmq_qasm_simulator - pending jobs: 0 & simulated qubits\n",
      "ibmq_lima - pending jobs: 47 & 5 qubits\n",
      "ibmq_belem - pending jobs: 54 & 5 qubits\n",
      "ibmq_quito - pending jobs: 38 & 5 qubits\n",
      "simulator_statevector - pending jobs: 0 & simulated qubits\n",
      "simulator_mps - pending jobs: 0 & simulated qubits\n",
      "simulator_extended_stabilizer - pending jobs: 0 & simulated qubits\n",
      "simulator_stabilizer - pending jobs: 0 & simulated qubits\n",
      "ibmq_jakarta - pending jobs: 962 & 7 qubits\n",
      "ibmq_manila - pending jobs: 1556 & 5 qubits\n",
      "ibm_lagos - pending jobs: 117 & 7 qubits\n",
      "ibm_nairobi - pending jobs: 120 & 7 qubits\n",
      "ibm_perth - pending jobs: 88 & 7 qubits\n"
     ]
    }
   ],
   "source": [
    "for backend in providers.backends(): \n",
    "    try: \n",
    "        qubit_counts = len(backend.properties().qubits)\n",
    "    except: \n",
    "        qubit_counts = \"simulated\"\n",
    "    print(f\"{backend.name()} - pending jobs: {backend.status().pending_jobs} & {qubit_counts} qubits\")"
   ]
  },
  {
   "cell_type": "code",
   "execution_count": null,
   "id": "2091c3c6",
   "metadata": {},
   "outputs": [],
   "source": []
  }
 ],
 "metadata": {
  "kernelspec": {
   "display_name": "Python 3 (ipykernel)",
   "language": "python",
   "name": "python3"
  },
  "language_info": {
   "codemirror_mode": {
    "name": "ipython",
    "version": 3
   },
   "file_extension": ".py",
   "mimetype": "text/x-python",
   "name": "python",
   "nbconvert_exporter": "python",
   "pygments_lexer": "ipython3",
   "version": "3.11.3"
  }
 },
 "nbformat": 4,
 "nbformat_minor": 5
}
