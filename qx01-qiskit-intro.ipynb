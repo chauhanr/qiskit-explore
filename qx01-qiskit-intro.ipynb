{
 "cells": [
  {
   "cell_type": "markdown",
   "id": "49d56f3a",
   "metadata": {},
   "source": [
    "## Qiskit Intro and Basic"
   ]
  },
  {
   "cell_type": "code",
   "execution_count": 1,
   "id": "89f1c941",
   "metadata": {},
   "outputs": [],
   "source": [
    "from qiskit import * "
   ]
  },
  {
   "cell_type": "code",
   "execution_count": 2,
   "id": "cc7c62c0",
   "metadata": {},
   "outputs": [],
   "source": [
    "#circuit = QuantumCircuit(2,2)  # register 2 quantum bits and 2 classical bits \n",
    "quantum_register = QuantumRegister(2)\n",
    "classical_register = ClassicalRegister(2) \n",
    "circuit = QuantumCircuit(quantum_register, classical_register)"
   ]
  },
  {
   "cell_type": "code",
   "execution_count": 3,
   "id": "e2cd189d",
   "metadata": {},
   "outputs": [
    {
     "data": {
      "text/html": [
       "<pre style=\"word-wrap: normal;white-space: pre;background: #fff0;line-height: 1.1;font-family: &quot;Courier New&quot;,Courier,monospace\">      \n",
       "q0_0: \n",
       "      \n",
       "q0_1: \n",
       "      \n",
       "c0: 2/\n",
       "      </pre>"
      ],
      "text/plain": [
       "      \n",
       "q0_0: \n",
       "      \n",
       "q0_1: \n",
       "      \n",
       "c0: 2/\n",
       "      "
      ]
     },
     "execution_count": 3,
     "metadata": {},
     "output_type": "execute_result"
    }
   ],
   "source": [
    "%matplotlib.inline"
   ]
  },
  {
   "cell_type": "code",
   "execution_count": null,
   "id": "79f476aa",
   "metadata": {},
   "outputs": [],
   "source": []
  }
 ],
 "metadata": {
  "kernelspec": {
   "display_name": "Python 3 (ipykernel)",
   "language": "python",
   "name": "python3"
  },
  "language_info": {
   "codemirror_mode": {
    "name": "ipython",
    "version": 3
   },
   "file_extension": ".py",
   "mimetype": "text/x-python",
   "name": "python",
   "nbconvert_exporter": "python",
   "pygments_lexer": "ipython3",
   "version": "3.11.4"
  }
 },
 "nbformat": 4,
 "nbformat_minor": 5
}
